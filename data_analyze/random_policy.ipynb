{
 "cells": [
  {
   "cell_type": "code",
   "execution_count": 6,
   "metadata": {},
   "outputs": [],
   "source": [
    "import os\n",
    "import pickle\n",
    "from glob import glob"
   ]
  },
  {
   "cell_type": "code",
   "execution_count": 2,
   "metadata": {},
   "outputs": [
    {
     "name": "stdout",
     "output_type": "stream",
     "text": [
      "/home/asus/Documents/git/SRTD - MTL - ORL/data_analyze\n"
     ]
    }
   ],
   "source": [
    "print(os.getcwd())"
   ]
  },
  {
   "cell_type": "code",
   "execution_count": 4,
   "metadata": {},
   "outputs": [
    {
     "name": "stdout",
     "output_type": "stream",
     "text": [
      "/home/asus/Documents/git/SRTD - MTL - ORL\n"
     ]
    }
   ],
   "source": [
    "os.chdir(\"..\")\n",
    "print(os.getcwd())"
   ]
  },
  {
   "cell_type": "code",
   "execution_count": 5,
   "metadata": {},
   "outputs": [
    {
     "data": {
      "text/plain": [
       "True"
      ]
     },
     "execution_count": 5,
     "metadata": {},
     "output_type": "execute_result"
    }
   ],
   "source": [
    "main_data_dir = os.getcwd() + '/single_task/offline_data'\n",
    "os.path.exists(main_data_dir)"
   ]
  },
  {
   "cell_type": "code",
   "execution_count": 7,
   "metadata": {},
   "outputs": [
    {
     "data": {
      "text/plain": [
       "['peg-insert-side-v2',\n",
       " 'drawer-open-v2',\n",
       " 'door-open-v2',\n",
       " 'button-press-topdown-v2',\n",
       " 'drawer-close-v2',\n",
       " 'window-close-v2',\n",
       " 'push-v2',\n",
       " 'window-open-v2',\n",
       " 'pick-place-v2',\n",
       " 'reach-v2']"
      ]
     },
     "execution_count": 7,
     "metadata": {},
     "output_type": "execute_result"
    }
   ],
   "source": [
    "os.listdir(main_data_dir)"
   ]
  },
  {
   "cell_type": "code",
   "execution_count": 9,
   "metadata": {},
   "outputs": [
    {
     "name": "stdout",
     "output_type": "stream",
     "text": [
      "['/home/asus/Documents/git/SRTD - MTL - ORL/single_task/offline_data/peg-insert-side-v2/offline_data_random.pkl', '/home/asus/Documents/git/SRTD - MTL - ORL/single_task/offline_data/drawer-open-v2/offline_data_random.pkl', '/home/asus/Documents/git/SRTD - MTL - ORL/single_task/offline_data/door-open-v2/offline_data_random.pkl', '/home/asus/Documents/git/SRTD - MTL - ORL/single_task/offline_data/button-press-topdown-v2/offline_data_random.pkl', '/home/asus/Documents/git/SRTD - MTL - ORL/single_task/offline_data/drawer-close-v2/offline_data_random.pkl']\n"
     ]
    }
   ],
   "source": [
    "random_data = [x for x in glob(main_data_dir + \"/*/*\") if 'random' in x]\n",
    "print(random_data[:5])"
   ]
  },
  {
   "cell_type": "code",
   "execution_count": 10,
   "metadata": {},
   "outputs": [],
   "source": [
    "test = pickle.load( open( random_data[0], 'rb') )"
   ]
  },
  {
   "cell_type": "code",
   "execution_count": 11,
   "metadata": {},
   "outputs": [
    {
     "name": "stdout",
     "output_type": "stream",
     "text": [
      "<class 'dict'>\n"
     ]
    }
   ],
   "source": [
    "print(type(test))"
   ]
  },
  {
   "cell_type": "code",
   "execution_count": 12,
   "metadata": {},
   "outputs": [
    {
     "name": "stdout",
     "output_type": "stream",
     "text": [
      "dict_keys(['trajectories', 'num_episodes', 'num_timesteps', 'num_success'])\n"
     ]
    }
   ],
   "source": [
    "print(test.keys())"
   ]
  },
  {
   "cell_type": "code",
   "execution_count": 15,
   "metadata": {},
   "outputs": [
    {
     "name": "stdout",
     "output_type": "stream",
     "text": [
      "<class 'list'>\n",
      "<class 'int'>\n",
      "<class 'int'>\n",
      "<class 'int'>\n"
     ]
    }
   ],
   "source": [
    "for x in test:\n",
    "    print(type(test[x]))"
   ]
  },
  {
   "cell_type": "code",
   "execution_count": 19,
   "metadata": {},
   "outputs": [
    {
     "name": "stdout",
     "output_type": "stream",
     "text": [
      "dict_keys(['state', 'next_state', 'action', 'reward', 'done', 'info'])\n"
     ]
    }
   ],
   "source": [
    "traj_1 = test['trajectories'][0][0]\n",
    "print(traj_1.keys())"
   ]
  },
  {
   "cell_type": "code",
   "execution_count": 20,
   "metadata": {},
   "outputs": [
    {
     "name": "stdout",
     "output_type": "stream",
     "text": [
      "[ 0.00615235  0.6001898   0.19430117  1.          0.18168358  0.5758754\n",
      "  0.03        0.          0.          0.          1.          0.\n",
      "  0.          0.          0.          0.          0.          0.\n",
      "  0.00615235  0.6001898   0.19430117  1.          0.18168358  0.5758754\n",
      "  0.03        0.          0.          0.          1.          0.\n",
      "  0.          0.          0.          0.          0.          0.\n",
      " -0.26072116  0.42808212  0.13006348]\n"
     ]
    }
   ],
   "source": [
    "print(traj_1['state'])"
   ]
  },
  {
   "cell_type": "code",
   "execution_count": 21,
   "metadata": {},
   "outputs": [
    {
     "name": "stdout",
     "output_type": "stream",
     "text": [
      "[ 0.00576727  0.59942197  0.19354673  1.          0.18168358  0.5758754\n",
      "  0.02938703  0.          0.          0.          1.          0.\n",
      "  0.          0.          0.          0.          0.          0.\n",
      "  0.00615235  0.6001898   0.19430117  1.          0.18168358  0.5758754\n",
      "  0.03        0.          0.          0.          1.          0.\n",
      "  0.          0.          0.          0.          0.          0.\n",
      " -0.26072116  0.42808212  0.13006348]\n"
     ]
    }
   ],
   "source": [
    "print(traj_1['next_state'])"
   ]
  },
  {
   "cell_type": "code",
   "execution_count": 22,
   "metadata": {},
   "outputs": [
    {
     "name": "stdout",
     "output_type": "stream",
     "text": [
      "[-0.22353181 -0.48594692 -0.79631084 -0.12936193]\n"
     ]
    }
   ],
   "source": [
    "print(traj_1['action'])"
   ]
  },
  {
   "cell_type": "code",
   "execution_count": 24,
   "metadata": {},
   "outputs": [
    {
     "name": "stdout",
     "output_type": "stream",
     "text": [
      "0.002026395130815783\n"
     ]
    }
   ],
   "source": [
    "print(traj_1['reward'])"
   ]
  },
  {
   "cell_type": "code",
   "execution_count": 25,
   "metadata": {},
   "outputs": [
    {
     "name": "stdout",
     "output_type": "stream",
     "text": [
      "False\n"
     ]
    }
   ],
   "source": [
    "print(traj_1['done'])"
   ]
  },
  {
   "cell_type": "code",
   "execution_count": 26,
   "metadata": {},
   "outputs": [
    {
     "name": "stdout",
     "output_type": "stream",
     "text": [
      "{'success': 0.0, 'near_object': 0.0, 'grasp_success': 0.0, 'grasp_reward': 0.024074239958918123, 'in_place_reward': 0.1135003983737046, 'obj_to_target': 0.4836995489134693, 'unscaled_reward': 0.02026395130815783, 'reward': 0.002026395130815783}\n"
     ]
    }
   ],
   "source": [
    "print(traj_1['info'])"
   ]
  },
  {
   "cell_type": "code",
   "execution_count": null,
   "metadata": {},
   "outputs": [],
   "source": []
  }
 ],
 "metadata": {
  "kernelspec": {
   "display_name": ".env",
   "language": "python",
   "name": "python3"
  },
  "language_info": {
   "codemirror_mode": {
    "name": "ipython",
    "version": 3
   },
   "file_extension": ".py",
   "mimetype": "text/x-python",
   "name": "python",
   "nbconvert_exporter": "python",
   "pygments_lexer": "ipython3",
   "version": "3.9.16"
  },
  "orig_nbformat": 4,
  "vscode": {
   "interpreter": {
    "hash": "44d9c0a652d1d0a0842948e9071609b99d98428f60312b6ca922e6614c114ffe"
   }
  }
 },
 "nbformat": 4,
 "nbformat_minor": 2
}
